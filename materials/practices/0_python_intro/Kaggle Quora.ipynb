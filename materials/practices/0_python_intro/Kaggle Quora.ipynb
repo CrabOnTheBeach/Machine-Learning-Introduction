{
 "cells": [
  {
   "cell_type": "code",
   "execution_count": null,
   "metadata": {
    "collapsed": true
   },
   "outputs": [],
   "source": [
    "from IPython.core.display import HTML\n",
    "HTML(\"\"\"\n",
    "<style>\n",
    "\n",
    "div.cell { /* Tunes the space between cells */\n",
    "margin-top:1em;\n",
    "margin-bottom:1em;\n",
    "}\n",
    "\n",
    "div.text_cell_render h1 { /* Main titles bigger, centered */\n",
    "font-size: 2.2em;\n",
    "line-height:1.4em;\n",
    "text-align:center;\n",
    "}\n",
    "\n",
    "div.text_cell_render h2 { /*  Parts names nearer from text */\n",
    "margin-bottom: -0.4em;\n",
    "}\n",
    "\n",
    "\n",
    "div.text_cell_render { /* Customize text cells */\n",
    "font-family: 'Times New Roman';\n",
    "font-size:1.5em;\n",
    "line-height:1.4em;\n",
    "padding-left:3em;\n",
    "padding-right:3em;\n",
    "}\n",
    "</style>\n",
    "\"\"\")"
   ]
  },
  {
   "cell_type": "markdown",
   "metadata": {},
   "source": [
    "<img src='../../../img/kaggle-logo-transparent-300.png'/>"
   ]
  },
  {
   "cell_type": "markdown",
   "metadata": {},
   "source": [
    "[kaggle.com](kaggle.com)"
   ]
  },
  {
   "cell_type": "markdown",
   "metadata": {},
   "source": [
    "Пожалуй, самая известная платформа для конкурсов в машинном обучении и анализе данных.\n",
    "\n",
    "* [Соревнования](https://www.kaggle.com/competitions)\n",
    "** **\n",
    "*От разминочных до ежегодного чемпионата с призом в $\\$10^6$*\n",
    "** **\n",
    "* [Наборы данных](https://www.kaggle.com/datasets)\n",
    "** **\n",
    "Открытые данные - потренироваться, извлечь знания, исследовать, etc\n",
    "** **\n",
    "* [\"Ядра\"(Kernels)](https://www.kaggle.com/kernels)\n",
    "** **\n",
    "Концентрат опыта в коде\n",
    "** **\n",
    "* [Форум](https://www.kaggle.com/discussion)\n",
    "** **\n",
    "Концентрат опыта в человекочитаемом формате\n",
    "** **\n",
    "* [Вакансии](https://www.kaggle.com/jobs)\n",
    "** **\n",
    "1. Решить пару-тройку соревнований с хорошим результатом\n",
    "2. Всё пишется в профиль\n",
    "3. ???\n",
    "4. Прибыль!\n",
    "** **\n",
    "* [Блог](http://blog.kaggle.com/)\n",
    "** **\n",
    "Интервью, заметки, истории успеха.\n",
    "** **\n",
    "* [Вики](https://www.kaggle.com/wiki/Home)\n",
    "** **\n",
    "Инструкция по применению.\n",
    "** **"
   ]
  },
  {
   "cell_type": "markdown",
   "metadata": {},
   "source": [
    "## Общая схема проведения соревнований по анализу данных"
   ]
  },
  {
   "cell_type": "markdown",
   "metadata": {},
   "source": [
    "<img src='../../../img/Kaggle contest 1.png'/>"
   ]
  },
  {
   "cell_type": "markdown",
   "metadata": {},
   "source": [
    "Конкурс [Quora Question Pairs](https://www.kaggle.com/c/quora-question-pairs/data)"
   ]
  },
  {
   "cell_type": "markdown",
   "metadata": {},
   "source": [
    "#### Описание(Description)"
   ]
  },
  {
   "cell_type": "markdown",
   "metadata": {},
   "source": [
    "Где еще, кроме как на Quora, физик может помочь шеф-повару с математической задачкой и получить советы по приготовлению ужина? Quora - это место, где можно поделиться знаниями о чем угодно. Это платформа для вопросов и общения с людьми, которые привносят уникальные идеи и качественные ответы. Это возможность учиться друг у друга и лучше понимать мир.\n",
    "\n",
    "Аудитория Quora составляет более 100 миллионов пользователей в месяц, поэтому неудивительно, что многие люди задают похожие вопросы. Большое количество похожих вопросов может запутать пользователя. Quora ценит \"канонические\" вопросы, потому что они ценны для активно ищущих пользователей и писателей и предлагают большую ценность обеим этим группам в долгосрочной перспективе.\n",
    "\n",
    "В настоящее время Quora использует модель Random Forest для выявления повторяющихся вопросов. В этом соревновании  ставится задача решить эту проблему обработки естественного языка, применяя передовые методы для классификации того, являются ли пары вопросов дублирующимися или нет. Это упростит поиск высококачественных ответов на вопросы, которые приведут к улучшению платформы."
   ]
  },
  {
   "cell_type": "markdown",
   "metadata": {},
   "source": [
    "###### Формат файла с предсказаниями\n",
    "Для каждого ID в наборе данных нужно предсказать вероятность того, что пары вопросов дублируют друг друга(число от 0 до 1). csv-файл(с запятыми) должен содержать заголовок и выглядеть примерно так:\n",
    "\n",
    "```\n",
    "test_id,is_duplicate\n",
    "0,0.5\n",
    "1,0.4\n",
    "2,0.9\n",
    "etc.\n",
    "\n",
    "```"
   ]
  },
  {
   "cell_type": "markdown",
   "metadata": {},
   "source": [
    "#### Оценка(Evaluation)  \n",
    "Предсказания оцениваются с помощью log loss между предсказанными и реальными значениями.  \n",
    "Что такое log loss?\n",
    "$$\\large l(y,p) = -ylog(p)-(1-y)log(1-p)$$\n",
    "где y - реальное значение, p - предсказанное значение."
   ]
  },
  {
   "cell_type": "markdown",
   "metadata": {},
   "source": [
    "### Призы\n",
    "1 место - $12500\n",
    "\n",
    "2 место - $8500 \n",
    "\n",
    "3 место - $4000  "
   ]
  },
  {
   "cell_type": "markdown",
   "metadata": {},
   "source": [
    "### Таймлайн\n",
    "\n",
    "30 мая 2017 года - завершается объединение команд, вступление в конкурс, etc\n",
    "6 июня 2017 года - окончательное завершение приема новых предсказаний"
   ]
  },
  {
   "cell_type": "markdown",
   "metadata": {},
   "source": [
    "## Данные"
   ]
  },
  {
   "cell_type": "markdown",
   "metadata": {},
   "source": [
    "Цель соревнования - предсказать, какая из представленных пар вопросов содержит два вопроса с одинаковым значением. Обучающее множество - разметка пар вопросов экспертами-людьми. Разметка по сути своей субъективна, так как истинное значение предложений никогда не может быть достоверно известно. Маркировка людьми также является «шумным» процессом. Как следствие, разметку в этом наборе данных следует воспринимать как «информацию», не на 100% точную; может встречаться и неправильная маркировка. Мы полагаем, что отметки в целом правдивы, но это предположение может быть неверным в конкретном случае для отдельных элементов в наборе данных.\n",
    "\n",
    "Обратите внимание: в качестве меры против мошенничества Kaggle дополнила тестовый набор компьютерными парами вопросов. Эти строки не приходят из Quora и не учитываются при подсчете очков. Все вопросы в учебном наборе являются подлинными примерами от Quora.\n",
    "Поля данных:\n",
    "\n",
    "    Id - идентификатор пары вопросов обучающего набора\n",
    "    Qid1, qid2 - уникальные идентификаторы каждого вопроса (доступно только в train.csv)\n",
    "    Question1, question2 - полный текст каждого вопроса\n",
    "    Is_duplicate - целевая переменная, равная в 1, если question1 и question2 имеют одно и то же значение, и 0 в противном случае."
   ]
  },
  {
   "cell_type": "markdown",
   "metadata": {},
   "source": [
    "Размеры данных в строках:"
   ]
  },
  {
   "cell_type": "code",
   "execution_count": null,
   "metadata": {},
   "outputs": [],
   "source": [
    "!wc -l data/train.csv"
   ]
  },
  {
   "cell_type": "code",
   "execution_count": null,
   "metadata": {},
   "outputs": [],
   "source": [
    "!wc -l data/test.csv"
   ]
  },
  {
   "cell_type": "markdown",
   "metadata": {},
   "source": [
    "Начнем с подключения библиотек:"
   ]
  },
  {
   "cell_type": "code",
   "execution_count": null,
   "metadata": {
    "collapsed": true
   },
   "outputs": [],
   "source": [
    "import numpy as np\n",
    "import pandas as pd\n",
    "import matplotlib.pyplot as plt\n",
    "%matplotlib inline\n",
    "import seaborn as sns"
   ]
  },
  {
   "cell_type": "code",
   "execution_count": null,
   "metadata": {},
   "outputs": [],
   "source": [
    "data = pd.read_csv('../../../data/train.csv')"
   ]
  },
  {
   "cell_type": "code",
   "execution_count": null,
   "metadata": {},
   "outputs": [],
   "source": [
    "data.describe()"
   ]
  },
  {
   "cell_type": "code",
   "execution_count": null,
   "metadata": {},
   "outputs": [],
   "source": [
    "data.info()"
   ]
  },
  {
   "cell_type": "markdown",
   "metadata": {},
   "source": [
    "Взглянем на распределение признака is_duplicate, который обозначает, похожи ли вопросы.  \n",
    "Сначала в виде чисел:"
   ]
  },
  {
   "cell_type": "code",
   "execution_count": null,
   "metadata": {},
   "outputs": [],
   "source": [
    "data.is_duplicate.value_counts(normalize=False)"
   ]
  },
  {
   "cell_type": "code",
   "execution_count": null,
   "metadata": {},
   "outputs": [],
   "source": [
    "data.is_duplicate.value_counts(normalize=True)"
   ]
  },
  {
   "cell_type": "markdown",
   "metadata": {},
   "source": [
    "А теперь в виде графика:"
   ]
  },
  {
   "cell_type": "code",
   "execution_count": null,
   "metadata": {},
   "outputs": [],
   "source": [
    "data.is_duplicate.hist()\n",
    "plt.show()"
   ]
  },
  {
   "cell_type": "markdown",
   "metadata": {},
   "source": [
    "Есть пара \"тупых\" вариантов решения:\n",
    "1. Выбрать самое популярное значение(в основном вопросы не похожи между собой).\n",
    "2. Выбрать некоторое среднее значение(все вопросы в среднем немного похожи)."
   ]
  },
  {
   "cell_type": "markdown",
   "metadata": {},
   "source": [
    "Для начала подготовим тестовую выборку"
   ]
  },
  {
   "cell_type": "code",
   "execution_count": null,
   "metadata": {
    "collapsed": true
   },
   "outputs": [],
   "source": [
    "test_data = pd.read_csv('../../../data/test.csv')"
   ]
  },
  {
   "cell_type": "code",
   "execution_count": null,
   "metadata": {},
   "outputs": [],
   "source": [
    "test_data.info()"
   ]
  },
  {
   "cell_type": "code",
   "execution_count": null,
   "metadata": {},
   "outputs": [],
   "source": [
    "test_data.head()"
   ]
  },
  {
   "cell_type": "code",
   "execution_count": null,
   "metadata": {
    "collapsed": true
   },
   "outputs": [],
   "source": [
    "ans_data = test_data.drop(['question1','question2'], axis=1)\n",
    "ans_data['is_duplicate'] = 0"
   ]
  },
  {
   "cell_type": "code",
   "execution_count": null,
   "metadata": {
    "collapsed": true
   },
   "outputs": [],
   "source": [
    "ans_data.to_csv('1.csv', index=None)"
   ]
  },
  {
   "cell_type": "markdown",
   "metadata": {},
   "source": [
    "Оценка на публичной части - 6.01"
   ]
  },
  {
   "cell_type": "code",
   "execution_count": null,
   "metadata": {
    "collapsed": true
   },
   "outputs": [],
   "source": [
    "ans_data.is_duplicate = data.is_duplicate.mean()"
   ]
  },
  {
   "cell_type": "code",
   "execution_count": null,
   "metadata": {
    "collapsed": true
   },
   "outputs": [],
   "source": [
    "ans_data.to_csv('2.csv', index=None)"
   ]
  },
  {
   "cell_type": "markdown",
   "metadata": {},
   "source": [
    "Оценка на публичной части - 0.55"
   ]
  }
 ],
 "metadata": {
  "kernelspec": {
   "display_name": "Python 3",
   "language": "python",
   "name": "python3"
  },
  "language_info": {
   "codemirror_mode": {
    "name": "ipython",
    "version": 3
   },
   "file_extension": ".py",
   "mimetype": "text/x-python",
   "name": "python",
   "nbconvert_exporter": "python",
   "pygments_lexer": "ipython3",
   "version": "3.6.3"
  }
 },
 "nbformat": 4,
 "nbformat_minor": 2
}
